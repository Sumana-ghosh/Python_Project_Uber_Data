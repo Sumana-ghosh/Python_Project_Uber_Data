{
 "cells": [
  {
   "cell_type": "markdown",
   "id": "7de2b97d",
   "metadata": {},
   "source": [
    "### Importing python libraries"
   ]
  },
  {
   "cell_type": "code",
   "execution_count": 49,
   "id": "3f398773",
   "metadata": {},
   "outputs": [],
   "source": [
    "import numpy as np\n",
    "import pandas as pd\n",
    "import matplotlib.pyplot as plt\n",
    "import seaborn as sns"
   ]
  },
  {
   "cell_type": "code",
   "execution_count": 50,
   "id": "00318b2d",
   "metadata": {},
   "outputs": [],
   "source": [
    "import warnings\n",
    "warnings.filterwarnings('ignore')"
   ]
  },
  {
   "cell_type": "markdown",
   "id": "863c08bb",
   "metadata": {},
   "source": [
    "### Importing the data "
   ]
  },
  {
   "cell_type": "code",
   "execution_count": 51,
   "id": "cb5081ee",
   "metadata": {},
   "outputs": [],
   "source": [
    "df = pd.read_csv(r'C:\\Users\\SUMANA\\OneDrive\\Desktop\\Data Analytics Projects\\Python Projects\\Uber Data Analysis\\uber-pickups-in-new-york-city-20221020T140811Z-001\\uber-pickups-in-new-york-city\\uber-raw-data-janjune-15.csv', encoding = 'utf-8')"
   ]
  },
  {
   "cell_type": "code",
   "execution_count": 52,
   "id": "e43c0a04",
   "metadata": {},
   "outputs": [
    {
     "data": {
      "text/html": [
       "<div>\n",
       "<style scoped>\n",
       "    .dataframe tbody tr th:only-of-type {\n",
       "        vertical-align: middle;\n",
       "    }\n",
       "\n",
       "    .dataframe tbody tr th {\n",
       "        vertical-align: top;\n",
       "    }\n",
       "\n",
       "    .dataframe thead th {\n",
       "        text-align: right;\n",
       "    }\n",
       "</style>\n",
       "<table border=\"1\" class=\"dataframe\">\n",
       "  <thead>\n",
       "    <tr style=\"text-align: right;\">\n",
       "      <th></th>\n",
       "      <th>Dispatching_base_num</th>\n",
       "      <th>Pickup_date</th>\n",
       "      <th>Affiliated_base_num</th>\n",
       "      <th>locationID</th>\n",
       "    </tr>\n",
       "  </thead>\n",
       "  <tbody>\n",
       "    <tr>\n",
       "      <th>0</th>\n",
       "      <td>B02617</td>\n",
       "      <td>2015-05-17 09:47:00</td>\n",
       "      <td>B02617</td>\n",
       "      <td>141</td>\n",
       "    </tr>\n",
       "    <tr>\n",
       "      <th>1</th>\n",
       "      <td>B02617</td>\n",
       "      <td>2015-05-17 09:47:00</td>\n",
       "      <td>B02617</td>\n",
       "      <td>65</td>\n",
       "    </tr>\n",
       "    <tr>\n",
       "      <th>2</th>\n",
       "      <td>B02617</td>\n",
       "      <td>2015-05-17 09:47:00</td>\n",
       "      <td>B02617</td>\n",
       "      <td>100</td>\n",
       "    </tr>\n",
       "    <tr>\n",
       "      <th>3</th>\n",
       "      <td>B02617</td>\n",
       "      <td>2015-05-17 09:47:00</td>\n",
       "      <td>B02774</td>\n",
       "      <td>80</td>\n",
       "    </tr>\n",
       "    <tr>\n",
       "      <th>4</th>\n",
       "      <td>B02617</td>\n",
       "      <td>2015-05-17 09:47:00</td>\n",
       "      <td>B02617</td>\n",
       "      <td>90</td>\n",
       "    </tr>\n",
       "  </tbody>\n",
       "</table>\n",
       "</div>"
      ],
      "text/plain": [
       "  Dispatching_base_num          Pickup_date Affiliated_base_num  locationID\n",
       "0               B02617  2015-05-17 09:47:00              B02617         141\n",
       "1               B02617  2015-05-17 09:47:00              B02617          65\n",
       "2               B02617  2015-05-17 09:47:00              B02617         100\n",
       "3               B02617  2015-05-17 09:47:00              B02774          80\n",
       "4               B02617  2015-05-17 09:47:00              B02617          90"
      ]
     },
     "execution_count": 52,
     "metadata": {},
     "output_type": "execute_result"
    }
   ],
   "source": [
    "df.head()"
   ]
  },
  {
   "cell_type": "code",
   "execution_count": 53,
   "id": "ca0c622c",
   "metadata": {},
   "outputs": [
    {
     "data": {
      "text/plain": [
       "(14270479, 4)"
      ]
     },
     "execution_count": 53,
     "metadata": {},
     "output_type": "execute_result"
    }
   ],
   "source": [
    "df.shape"
   ]
  },
  {
   "cell_type": "markdown",
   "id": "add0f201",
   "metadata": {},
   "source": [
    "### Data Cleaning"
   ]
  },
  {
   "cell_type": "code",
   "execution_count": 54,
   "id": "d813091a",
   "metadata": {},
   "outputs": [
    {
     "data": {
      "text/plain": [
       "898225"
      ]
     },
     "execution_count": 54,
     "metadata": {},
     "output_type": "execute_result"
    }
   ],
   "source": [
    "#checking duplicate values in df\n",
    "df.duplicated().sum()"
   ]
  },
  {
   "cell_type": "code",
   "execution_count": 55,
   "id": "6e2e048d",
   "metadata": {},
   "outputs": [],
   "source": [
    "#removing duplicate values from df\n",
    "uber_df = df.drop_duplicates()"
   ]
  },
  {
   "cell_type": "code",
   "execution_count": 56,
   "id": "76ce7b24",
   "metadata": {},
   "outputs": [
    {
     "data": {
      "text/plain": [
       "(13372254, 4)"
      ]
     },
     "execution_count": 56,
     "metadata": {},
     "output_type": "execute_result"
    }
   ],
   "source": [
    "uber_df.shape"
   ]
  },
  {
   "cell_type": "code",
   "execution_count": 57,
   "id": "060d109d",
   "metadata": {},
   "outputs": [
    {
     "data": {
      "text/html": [
       "<div>\n",
       "<style scoped>\n",
       "    .dataframe tbody tr th:only-of-type {\n",
       "        vertical-align: middle;\n",
       "    }\n",
       "\n",
       "    .dataframe tbody tr th {\n",
       "        vertical-align: top;\n",
       "    }\n",
       "\n",
       "    .dataframe thead th {\n",
       "        text-align: right;\n",
       "    }\n",
       "</style>\n",
       "<table border=\"1\" class=\"dataframe\">\n",
       "  <thead>\n",
       "    <tr style=\"text-align: right;\">\n",
       "      <th></th>\n",
       "      <th>index</th>\n",
       "      <th>0</th>\n",
       "    </tr>\n",
       "  </thead>\n",
       "  <tbody>\n",
       "    <tr>\n",
       "      <th>0</th>\n",
       "      <td>Affiliated_base_num</td>\n",
       "      <td>160702</td>\n",
       "    </tr>\n",
       "    <tr>\n",
       "      <th>1</th>\n",
       "      <td>Dispatching_base_num</td>\n",
       "      <td>0</td>\n",
       "    </tr>\n",
       "    <tr>\n",
       "      <th>2</th>\n",
       "      <td>Pickup_date</td>\n",
       "      <td>0</td>\n",
       "    </tr>\n",
       "    <tr>\n",
       "      <th>3</th>\n",
       "      <td>locationID</td>\n",
       "      <td>0</td>\n",
       "    </tr>\n",
       "  </tbody>\n",
       "</table>\n",
       "</div>"
      ],
      "text/plain": [
       "                  index       0\n",
       "0   Affiliated_base_num  160702\n",
       "1  Dispatching_base_num       0\n",
       "2           Pickup_date       0\n",
       "3            locationID       0"
      ]
     },
     "execution_count": 57,
     "metadata": {},
     "output_type": "execute_result"
    }
   ],
   "source": [
    "#checking for null values\n",
    "uber_df.isna().sum().sort_values(ascending=False).reset_index()"
   ]
  },
  {
   "cell_type": "markdown",
   "id": "1e74addd",
   "metadata": {},
   "source": [
    "We will deal with the null values in the affiliated_base_num column if we will use that column later"
   ]
  },
  {
   "cell_type": "markdown",
   "id": "7934770f",
   "metadata": {},
   "source": [
    "## Exploratory Data Analysis"
   ]
  },
  {
   "cell_type": "markdown",
   "id": "ae804c51",
   "metadata": {},
   "source": [
    "### 1. Which month between January to June 2015 have the maximum uber pick-ups in New York city?"
   ]
  },
  {
   "cell_type": "code",
   "execution_count": 58,
   "id": "23fde443",
   "metadata": {},
   "outputs": [
    {
     "data": {
      "text/plain": [
       "Dispatching_base_num    object\n",
       "Pickup_date             object\n",
       "Affiliated_base_num     object\n",
       "locationID               int64\n",
       "dtype: object"
      ]
     },
     "execution_count": 58,
     "metadata": {},
     "output_type": "execute_result"
    }
   ],
   "source": [
    "uber_df.dtypes"
   ]
  },
  {
   "cell_type": "code",
   "execution_count": 59,
   "id": "f143b0f1",
   "metadata": {},
   "outputs": [],
   "source": [
    "#convert object type string to datetime for pickup_date column\n",
    "uber_df['Pickup_date'] = pd.to_datetime(uber_df['Pickup_date'], format = '%Y-%m-%d %H:%M:%S')"
   ]
  },
  {
   "cell_type": "code",
   "execution_count": 60,
   "id": "3cfbdf11",
   "metadata": {},
   "outputs": [
    {
     "data": {
      "text/plain": [
       "dtype('<M8[ns]')"
      ]
     },
     "execution_count": 60,
     "metadata": {},
     "output_type": "execute_result"
    }
   ],
   "source": [
    "uber_df['Pickup_date'].dtype"
   ]
  },
  {
   "cell_type": "code",
   "execution_count": 61,
   "id": "e4f5da33",
   "metadata": {},
   "outputs": [],
   "source": [
    "uber_df['Pickup_month'] = uber_df['Pickup_date'].dt.month"
   ]
  },
  {
   "cell_type": "code",
   "execution_count": 62,
   "id": "1b17001e",
   "metadata": {},
   "outputs": [
    {
     "data": {
      "text/html": [
       "<div>\n",
       "<style scoped>\n",
       "    .dataframe tbody tr th:only-of-type {\n",
       "        vertical-align: middle;\n",
       "    }\n",
       "\n",
       "    .dataframe tbody tr th {\n",
       "        vertical-align: top;\n",
       "    }\n",
       "\n",
       "    .dataframe thead th {\n",
       "        text-align: right;\n",
       "    }\n",
       "</style>\n",
       "<table border=\"1\" class=\"dataframe\">\n",
       "  <thead>\n",
       "    <tr style=\"text-align: right;\">\n",
       "      <th></th>\n",
       "      <th>Dispatching_base_num</th>\n",
       "      <th>Pickup_date</th>\n",
       "      <th>Affiliated_base_num</th>\n",
       "      <th>locationID</th>\n",
       "      <th>Pickup_month</th>\n",
       "    </tr>\n",
       "  </thead>\n",
       "  <tbody>\n",
       "    <tr>\n",
       "      <th>0</th>\n",
       "      <td>B02617</td>\n",
       "      <td>2015-05-17 09:47:00</td>\n",
       "      <td>B02617</td>\n",
       "      <td>141</td>\n",
       "      <td>5</td>\n",
       "    </tr>\n",
       "    <tr>\n",
       "      <th>1</th>\n",
       "      <td>B02617</td>\n",
       "      <td>2015-05-17 09:47:00</td>\n",
       "      <td>B02617</td>\n",
       "      <td>65</td>\n",
       "      <td>5</td>\n",
       "    </tr>\n",
       "    <tr>\n",
       "      <th>2</th>\n",
       "      <td>B02617</td>\n",
       "      <td>2015-05-17 09:47:00</td>\n",
       "      <td>B02617</td>\n",
       "      <td>100</td>\n",
       "      <td>5</td>\n",
       "    </tr>\n",
       "    <tr>\n",
       "      <th>3</th>\n",
       "      <td>B02617</td>\n",
       "      <td>2015-05-17 09:47:00</td>\n",
       "      <td>B02774</td>\n",
       "      <td>80</td>\n",
       "      <td>5</td>\n",
       "    </tr>\n",
       "    <tr>\n",
       "      <th>4</th>\n",
       "      <td>B02617</td>\n",
       "      <td>2015-05-17 09:47:00</td>\n",
       "      <td>B02617</td>\n",
       "      <td>90</td>\n",
       "      <td>5</td>\n",
       "    </tr>\n",
       "  </tbody>\n",
       "</table>\n",
       "</div>"
      ],
      "text/plain": [
       "  Dispatching_base_num         Pickup_date Affiliated_base_num  locationID  \\\n",
       "0               B02617 2015-05-17 09:47:00              B02617         141   \n",
       "1               B02617 2015-05-17 09:47:00              B02617          65   \n",
       "2               B02617 2015-05-17 09:47:00              B02617         100   \n",
       "3               B02617 2015-05-17 09:47:00              B02774          80   \n",
       "4               B02617 2015-05-17 09:47:00              B02617          90   \n",
       "\n",
       "   Pickup_month  \n",
       "0             5  \n",
       "1             5  \n",
       "2             5  \n",
       "3             5  \n",
       "4             5  "
      ]
     },
     "execution_count": 62,
     "metadata": {},
     "output_type": "execute_result"
    }
   ],
   "source": [
    "#checking the new column\n",
    "uber_df.head()"
   ]
  },
  {
   "cell_type": "code",
   "execution_count": 63,
   "id": "ac9e3fcd",
   "metadata": {},
   "outputs": [
    {
     "data": {
      "text/html": [
       "<div>\n",
       "<style scoped>\n",
       "    .dataframe tbody tr th:only-of-type {\n",
       "        vertical-align: middle;\n",
       "    }\n",
       "\n",
       "    .dataframe tbody tr th {\n",
       "        vertical-align: top;\n",
       "    }\n",
       "\n",
       "    .dataframe thead th {\n",
       "        text-align: right;\n",
       "    }\n",
       "</style>\n",
       "<table border=\"1\" class=\"dataframe\">\n",
       "  <thead>\n",
       "    <tr style=\"text-align: right;\">\n",
       "      <th></th>\n",
       "      <th>Month</th>\n",
       "      <th>Pickup_Count</th>\n",
       "    </tr>\n",
       "  </thead>\n",
       "  <tbody>\n",
       "    <tr>\n",
       "      <th>5</th>\n",
       "      <td>Jan</td>\n",
       "      <td>1918970</td>\n",
       "    </tr>\n",
       "    <tr>\n",
       "      <th>2</th>\n",
       "      <td>Feb</td>\n",
       "      <td>2222189</td>\n",
       "    </tr>\n",
       "    <tr>\n",
       "      <th>4</th>\n",
       "      <td>Mar</td>\n",
       "      <td>2062639</td>\n",
       "    </tr>\n",
       "    <tr>\n",
       "      <th>3</th>\n",
       "      <td>Apr</td>\n",
       "      <td>2112705</td>\n",
       "    </tr>\n",
       "    <tr>\n",
       "      <th>1</th>\n",
       "      <td>May</td>\n",
       "      <td>2483980</td>\n",
       "    </tr>\n",
       "    <tr>\n",
       "      <th>0</th>\n",
       "      <td>Jun</td>\n",
       "      <td>2571771</td>\n",
       "    </tr>\n",
       "  </tbody>\n",
       "</table>\n",
       "</div>"
      ],
      "text/plain": [
       "  Month  Pickup_Count\n",
       "5   Jan       1918970\n",
       "2   Feb       2222189\n",
       "4   Mar       2062639\n",
       "3   Apr       2112705\n",
       "1   May       2483980\n",
       "0   Jun       2571771"
      ]
     },
     "execution_count": 63,
     "metadata": {},
     "output_type": "execute_result"
    }
   ],
   "source": [
    "#counting number of rides per month\n",
    "rides_month = uber_df['Pickup_month'].value_counts().reset_index().rename(columns={'index':'Month','Pickup_month':'Pickup_Count'})\n",
    "rides_month = rides_month.sort_values(by = ['Month'])\n",
    "dict_month = {1:'Jan',2:'Feb',3:'Mar',4:'Apr',5:'May',6:'Jun'}\n",
    "rides_month['Month'] = rides_month['Month'].map(dict_month)\n",
    "rides_month"
   ]
  },
  {
   "cell_type": "code",
   "execution_count": 85,
   "id": "d70c5dea",
   "metadata": {},
   "outputs": [
    {
     "data": {
      "text/plain": [
       "Text(0.5, 1.0, 'Number of uber pickups per month')"
      ]
     },
     "execution_count": 85,
     "metadata": {},
     "output_type": "execute_result"
    },
    {
     "data": {
      "image/png": "[encoded data removed]",
      "text/plain": [
       "<Figure size 432x360 with 1 Axes>"
      ]
     },
     "metadata": {
      "needs_background": "light"
     },
     "output_type": "display_data"
    }
   ],
   "source": [
    "#plotting the graph\n",
    "plt.figure(figsize=(6,5))\n",
    "sns.barplot(x='Month',y='Pickup_Count',data = rides_month, palette = 'Greens_d')\n",
    "plt.title(\"Number of uber pickups per month\",fontsize=15)"
   ]
  },
  {
   "cell_type": "markdown",
   "id": "5b5ff005",
   "metadata": {},
   "source": [
    "### **Inference:** \n",
    "June has the highest uber pickup count between January to June 2015"
   ]
  },
  {
   "cell_type": "markdown",
   "id": "2d39853b",
   "metadata": {},
   "source": [
    "### 2. Pickup count per day in a month in New York city?"
   ]
  },
  {
   "cell_type": "code",
   "execution_count": 65,
   "id": "3ebf0db6",
   "metadata": {},
   "outputs": [],
   "source": [
    "#extracting weekday from the Pickup_date\n",
    "uber_df['Week_Day'] = uber_df['Pickup_date'].dt.day_name()\n",
    "uber_df['day'] = uber_df['Pickup_date'].dt.day"
   ]
  },
  {
   "cell_type": "code",
   "execution_count": 66,
   "id": "3b296a50",
   "metadata": {},
   "outputs": [],
   "source": [
    "uber_df['hour'] = uber_df['Pickup_date'].dt.hour\n",
    "uber_df['minute'] = uber_df['Pickup_date'].dt.minute"
   ]
  },
  {
   "cell_type": "code",
   "execution_count": 67,
   "id": "322a037b",
   "metadata": {},
   "outputs": [
    {
     "data": {
      "text/html": [
       "<div>\n",
       "<style scoped>\n",
       "    .dataframe tbody tr th:only-of-type {\n",
       "        vertical-align: middle;\n",
       "    }\n",
       "\n",
       "    .dataframe tbody tr th {\n",
       "        vertical-align: top;\n",
       "    }\n",
       "\n",
       "    .dataframe thead th {\n",
       "        text-align: right;\n",
       "    }\n",
       "</style>\n",
       "<table border=\"1\" class=\"dataframe\">\n",
       "  <thead>\n",
       "    <tr style=\"text-align: right;\">\n",
       "      <th></th>\n",
       "      <th>Dispatching_base_num</th>\n",
       "      <th>Pickup_date</th>\n",
       "      <th>Affiliated_base_num</th>\n",
       "      <th>locationID</th>\n",
       "      <th>Pickup_month</th>\n",
       "      <th>Week_Day</th>\n",
       "      <th>day</th>\n",
       "      <th>hour</th>\n",
       "      <th>minute</th>\n",
       "    </tr>\n",
       "  </thead>\n",
       "  <tbody>\n",
       "    <tr>\n",
       "      <th>0</th>\n",
       "      <td>B02617</td>\n",
       "      <td>2015-05-17 09:47:00</td>\n",
       "      <td>B02617</td>\n",
       "      <td>141</td>\n",
       "      <td>5</td>\n",
       "      <td>Sunday</td>\n",
       "      <td>17</td>\n",
       "      <td>9</td>\n",
       "      <td>47</td>\n",
       "    </tr>\n",
       "    <tr>\n",
       "      <th>1</th>\n",
       "      <td>B02617</td>\n",
       "      <td>2015-05-17 09:47:00</td>\n",
       "      <td>B02617</td>\n",
       "      <td>65</td>\n",
       "      <td>5</td>\n",
       "      <td>Sunday</td>\n",
       "      <td>17</td>\n",
       "      <td>9</td>\n",
       "      <td>47</td>\n",
       "    </tr>\n",
       "    <tr>\n",
       "      <th>2</th>\n",
       "      <td>B02617</td>\n",
       "      <td>2015-05-17 09:47:00</td>\n",
       "      <td>B02617</td>\n",
       "      <td>100</td>\n",
       "      <td>5</td>\n",
       "      <td>Sunday</td>\n",
       "      <td>17</td>\n",
       "      <td>9</td>\n",
       "      <td>47</td>\n",
       "    </tr>\n",
       "    <tr>\n",
       "      <th>3</th>\n",
       "      <td>B02617</td>\n",
       "      <td>2015-05-17 09:47:00</td>\n",
       "      <td>B02774</td>\n",
       "      <td>80</td>\n",
       "      <td>5</td>\n",
       "      <td>Sunday</td>\n",
       "      <td>17</td>\n",
       "      <td>9</td>\n",
       "      <td>47</td>\n",
       "    </tr>\n",
       "    <tr>\n",
       "      <th>4</th>\n",
       "      <td>B02617</td>\n",
       "      <td>2015-05-17 09:47:00</td>\n",
       "      <td>B02617</td>\n",
       "      <td>90</td>\n",
       "      <td>5</td>\n",
       "      <td>Sunday</td>\n",
       "      <td>17</td>\n",
       "      <td>9</td>\n",
       "      <td>47</td>\n",
       "    </tr>\n",
       "  </tbody>\n",
       "</table>\n",
       "</div>"
      ],
      "text/plain": [
       "  Dispatching_base_num         Pickup_date Affiliated_base_num  locationID  \\\n",
       "0               B02617 2015-05-17 09:47:00              B02617         141   \n",
       "1               B02617 2015-05-17 09:47:00              B02617          65   \n",
       "2               B02617 2015-05-17 09:47:00              B02617         100   \n",
       "3               B02617 2015-05-17 09:47:00              B02774          80   \n",
       "4               B02617 2015-05-17 09:47:00              B02617          90   \n",
       "\n",
       "   Pickup_month Week_Day  day  hour  minute  \n",
       "0             5   Sunday   17     9      47  \n",
       "1             5   Sunday   17     9      47  \n",
       "2             5   Sunday   17     9      47  \n",
       "3             5   Sunday   17     9      47  \n",
       "4             5   Sunday   17     9      47  "
      ]
     },
     "execution_count": 67,
     "metadata": {},
     "output_type": "execute_result"
    }
   ],
   "source": [
    "uber_df.head()"
   ]
  },
  {
   "cell_type": "code",
   "execution_count": 68,
   "id": "67e920ec",
   "metadata": {},
   "outputs": [],
   "source": [
    "#uber pick up counts per weekday for all months\n",
    "day_month = uber_df.groupby(['Pickup_month','Week_Day'], as_index=False).size()"
   ]
  },
  {
   "cell_type": "code",
   "execution_count": 69,
   "id": "700f6d4e",
   "metadata": {},
   "outputs": [
    {
     "data": {
      "text/html": [
       "<div>\n",
       "<style scoped>\n",
       "    .dataframe tbody tr th:only-of-type {\n",
       "        vertical-align: middle;\n",
       "    }\n",
       "\n",
       "    .dataframe tbody tr th {\n",
       "        vertical-align: top;\n",
       "    }\n",
       "\n",
       "    .dataframe thead th {\n",
       "        text-align: right;\n",
       "    }\n",
       "</style>\n",
       "<table border=\"1\" class=\"dataframe\">\n",
       "  <thead>\n",
       "    <tr style=\"text-align: right;\">\n",
       "      <th></th>\n",
       "      <th>Pickup_month</th>\n",
       "      <th>Week_Day</th>\n",
       "      <th>size</th>\n",
       "    </tr>\n",
       "  </thead>\n",
       "  <tbody>\n",
       "    <tr>\n",
       "      <th>0</th>\n",
       "      <td>1</td>\n",
       "      <td>Friday</td>\n",
       "      <td>339285</td>\n",
       "    </tr>\n",
       "    <tr>\n",
       "      <th>1</th>\n",
       "      <td>1</td>\n",
       "      <td>Monday</td>\n",
       "      <td>190606</td>\n",
       "    </tr>\n",
       "    <tr>\n",
       "      <th>2</th>\n",
       "      <td>1</td>\n",
       "      <td>Saturday</td>\n",
       "      <td>386049</td>\n",
       "    </tr>\n",
       "    <tr>\n",
       "      <th>3</th>\n",
       "      <td>1</td>\n",
       "      <td>Sunday</td>\n",
       "      <td>230487</td>\n",
       "    </tr>\n",
       "    <tr>\n",
       "      <th>4</th>\n",
       "      <td>1</td>\n",
       "      <td>Thursday</td>\n",
       "      <td>330319</td>\n",
       "    </tr>\n",
       "    <tr>\n",
       "      <th>5</th>\n",
       "      <td>1</td>\n",
       "      <td>Tuesday</td>\n",
       "      <td>196574</td>\n",
       "    </tr>\n",
       "    <tr>\n",
       "      <th>6</th>\n",
       "      <td>1</td>\n",
       "      <td>Wednesday</td>\n",
       "      <td>245650</td>\n",
       "    </tr>\n",
       "    <tr>\n",
       "      <th>7</th>\n",
       "      <td>2</td>\n",
       "      <td>Friday</td>\n",
       "      <td>373550</td>\n",
       "    </tr>\n",
       "    <tr>\n",
       "      <th>8</th>\n",
       "      <td>2</td>\n",
       "      <td>Monday</td>\n",
       "      <td>274948</td>\n",
       "    </tr>\n",
       "    <tr>\n",
       "      <th>9</th>\n",
       "      <td>2</td>\n",
       "      <td>Saturday</td>\n",
       "      <td>368311</td>\n",
       "    </tr>\n",
       "    <tr>\n",
       "      <th>10</th>\n",
       "      <td>2</td>\n",
       "      <td>Sunday</td>\n",
       "      <td>296130</td>\n",
       "    </tr>\n",
       "    <tr>\n",
       "      <th>11</th>\n",
       "      <td>2</td>\n",
       "      <td>Thursday</td>\n",
       "      <td>335603</td>\n",
       "    </tr>\n",
       "    <tr>\n",
       "      <th>12</th>\n",
       "      <td>2</td>\n",
       "      <td>Tuesday</td>\n",
       "      <td>287260</td>\n",
       "    </tr>\n",
       "    <tr>\n",
       "      <th>13</th>\n",
       "      <td>2</td>\n",
       "      <td>Wednesday</td>\n",
       "      <td>286387</td>\n",
       "    </tr>\n",
       "    <tr>\n",
       "      <th>14</th>\n",
       "      <td>3</td>\n",
       "      <td>Friday</td>\n",
       "      <td>309631</td>\n",
       "    </tr>\n",
       "    <tr>\n",
       "      <th>15</th>\n",
       "      <td>3</td>\n",
       "      <td>Monday</td>\n",
       "      <td>269931</td>\n",
       "    </tr>\n",
       "    <tr>\n",
       "      <th>16</th>\n",
       "      <td>3</td>\n",
       "      <td>Saturday</td>\n",
       "      <td>314785</td>\n",
       "    </tr>\n",
       "    <tr>\n",
       "      <th>17</th>\n",
       "      <td>3</td>\n",
       "      <td>Sunday</td>\n",
       "      <td>313865</td>\n",
       "    </tr>\n",
       "    <tr>\n",
       "      <th>18</th>\n",
       "      <td>3</td>\n",
       "      <td>Thursday</td>\n",
       "      <td>277026</td>\n",
       "    </tr>\n",
       "    <tr>\n",
       "      <th>19</th>\n",
       "      <td>3</td>\n",
       "      <td>Tuesday</td>\n",
       "      <td>320634</td>\n",
       "    </tr>\n",
       "    <tr>\n",
       "      <th>20</th>\n",
       "      <td>3</td>\n",
       "      <td>Wednesday</td>\n",
       "      <td>256767</td>\n",
       "    </tr>\n",
       "    <tr>\n",
       "      <th>21</th>\n",
       "      <td>4</td>\n",
       "      <td>Friday</td>\n",
       "      <td>315002</td>\n",
       "    </tr>\n",
       "    <tr>\n",
       "      <th>22</th>\n",
       "      <td>4</td>\n",
       "      <td>Monday</td>\n",
       "      <td>238429</td>\n",
       "    </tr>\n",
       "    <tr>\n",
       "      <th>23</th>\n",
       "      <td>4</td>\n",
       "      <td>Saturday</td>\n",
       "      <td>324545</td>\n",
       "    </tr>\n",
       "    <tr>\n",
       "      <th>24</th>\n",
       "      <td>4</td>\n",
       "      <td>Sunday</td>\n",
       "      <td>273560</td>\n",
       "    </tr>\n",
       "    <tr>\n",
       "      <th>25</th>\n",
       "      <td>4</td>\n",
       "      <td>Thursday</td>\n",
       "      <td>372522</td>\n",
       "    </tr>\n",
       "    <tr>\n",
       "      <th>26</th>\n",
       "      <td>4</td>\n",
       "      <td>Tuesday</td>\n",
       "      <td>250632</td>\n",
       "    </tr>\n",
       "    <tr>\n",
       "      <th>27</th>\n",
       "      <td>4</td>\n",
       "      <td>Wednesday</td>\n",
       "      <td>338015</td>\n",
       "    </tr>\n",
       "    <tr>\n",
       "      <th>28</th>\n",
       "      <td>5</td>\n",
       "      <td>Friday</td>\n",
       "      <td>430134</td>\n",
       "    </tr>\n",
       "    <tr>\n",
       "      <th>29</th>\n",
       "      <td>5</td>\n",
       "      <td>Monday</td>\n",
       "      <td>255501</td>\n",
       "    </tr>\n",
       "    <tr>\n",
       "      <th>30</th>\n",
       "      <td>5</td>\n",
       "      <td>Saturday</td>\n",
       "      <td>464298</td>\n",
       "    </tr>\n",
       "    <tr>\n",
       "      <th>31</th>\n",
       "      <td>5</td>\n",
       "      <td>Sunday</td>\n",
       "      <td>390391</td>\n",
       "    </tr>\n",
       "    <tr>\n",
       "      <th>32</th>\n",
       "      <td>5</td>\n",
       "      <td>Thursday</td>\n",
       "      <td>337607</td>\n",
       "    </tr>\n",
       "    <tr>\n",
       "      <th>33</th>\n",
       "      <td>5</td>\n",
       "      <td>Tuesday</td>\n",
       "      <td>290004</td>\n",
       "    </tr>\n",
       "    <tr>\n",
       "      <th>34</th>\n",
       "      <td>5</td>\n",
       "      <td>Wednesday</td>\n",
       "      <td>316045</td>\n",
       "    </tr>\n",
       "    <tr>\n",
       "      <th>35</th>\n",
       "      <td>6</td>\n",
       "      <td>Friday</td>\n",
       "      <td>371225</td>\n",
       "    </tr>\n",
       "    <tr>\n",
       "      <th>36</th>\n",
       "      <td>6</td>\n",
       "      <td>Monday</td>\n",
       "      <td>375312</td>\n",
       "    </tr>\n",
       "    <tr>\n",
       "      <th>37</th>\n",
       "      <td>6</td>\n",
       "      <td>Saturday</td>\n",
       "      <td>399377</td>\n",
       "    </tr>\n",
       "    <tr>\n",
       "      <th>38</th>\n",
       "      <td>6</td>\n",
       "      <td>Sunday</td>\n",
       "      <td>334434</td>\n",
       "    </tr>\n",
       "    <tr>\n",
       "      <th>39</th>\n",
       "      <td>6</td>\n",
       "      <td>Thursday</td>\n",
       "      <td>357782</td>\n",
       "    </tr>\n",
       "    <tr>\n",
       "      <th>40</th>\n",
       "      <td>6</td>\n",
       "      <td>Tuesday</td>\n",
       "      <td>405500</td>\n",
       "    </tr>\n",
       "    <tr>\n",
       "      <th>41</th>\n",
       "      <td>6</td>\n",
       "      <td>Wednesday</td>\n",
       "      <td>328141</td>\n",
       "    </tr>\n",
       "  </tbody>\n",
       "</table>\n",
       "</div>"
      ],
      "text/plain": [
       "    Pickup_month   Week_Day    size\n",
       "0              1     Friday  339285\n",
       "1              1     Monday  190606\n",
       "2              1   Saturday  386049\n",
       "3              1     Sunday  230487\n",
       "4              1   Thursday  330319\n",
       "5              1    Tuesday  196574\n",
       "6              1  Wednesday  245650\n",
       "7              2     Friday  373550\n",
       "8              2     Monday  274948\n",
       "9              2   Saturday  368311\n",
       "10             2     Sunday  296130\n",
       "11             2   Thursday  335603\n",
       "12             2    Tuesday  287260\n",
       "13             2  Wednesday  286387\n",
       "14             3     Friday  309631\n",
       "15             3     Monday  269931\n",
       "16             3   Saturday  314785\n",
       "17             3     Sunday  313865\n",
       "18             3   Thursday  277026\n",
       "19             3    Tuesday  320634\n",
       "20             3  Wednesday  256767\n",
       "21             4     Friday  315002\n",
       "22             4     Monday  238429\n",
       "23             4   Saturday  324545\n",
       "24             4     Sunday  273560\n",
       "25             4   Thursday  372522\n",
       "26             4    Tuesday  250632\n",
       "27             4  Wednesday  338015\n",
       "28             5     Friday  430134\n",
       "29             5     Monday  255501\n",
       "30             5   Saturday  464298\n",
       "31             5     Sunday  390391\n",
       "32             5   Thursday  337607\n",
       "33             5    Tuesday  290004\n",
       "34             5  Wednesday  316045\n",
       "35             6     Friday  371225\n",
       "36             6     Monday  375312\n",
       "37             6   Saturday  399377\n",
       "38             6     Sunday  334434\n",
       "39             6   Thursday  357782\n",
       "40             6    Tuesday  405500\n",
       "41             6  Wednesday  328141"
      ]
     },
     "execution_count": 69,
     "metadata": {},
     "output_type": "execute_result"
    }
   ],
   "source": [
    "day_month"
   ]
  },
  {
   "cell_type": "code",
   "execution_count": 70,
   "id": "a84ad767",
   "metadata": {},
   "outputs": [
    {
     "data": {
      "text/plain": [
       "array([1, 2, 3, 4, 5, 6], dtype=int64)"
      ]
     },
     "execution_count": 70,
     "metadata": {},
     "output_type": "execute_result"
    }
   ],
   "source": [
    "day_month['Pickup_month'].unique()"
   ]
  },
  {
   "cell_type": "code",
   "execution_count": 71,
   "id": "17a27086",
   "metadata": {},
   "outputs": [],
   "source": [
    "dict_month = {1:'Jan',2:'Feb',3:'Mar',4:'Apr',5:'May',6:'Jun'}"
   ]
  },
  {
   "cell_type": "code",
   "execution_count": 72,
   "id": "70654d40",
   "metadata": {},
   "outputs": [],
   "source": [
    "day_month['Pickup_month'] = day_month['Pickup_month'].map(dict_month)"
   ]
  },
  {
   "cell_type": "code",
   "execution_count": 73,
   "id": "91ee79a6",
   "metadata": {},
   "outputs": [
    {
     "data": {
      "text/html": [
       "<div>\n",
       "<style scoped>\n",
       "    .dataframe tbody tr th:only-of-type {\n",
       "        vertical-align: middle;\n",
       "    }\n",
       "\n",
       "    .dataframe tbody tr th {\n",
       "        vertical-align: top;\n",
       "    }\n",
       "\n",
       "    .dataframe thead th {\n",
       "        text-align: right;\n",
       "    }\n",
       "</style>\n",
       "<table border=\"1\" class=\"dataframe\">\n",
       "  <thead>\n",
       "    <tr style=\"text-align: right;\">\n",
       "      <th></th>\n",
       "      <th>Pickup_month</th>\n",
       "      <th>Week_Day</th>\n",
       "      <th>size</th>\n",
       "    </tr>\n",
       "  </thead>\n",
       "  <tbody>\n",
       "    <tr>\n",
       "      <th>0</th>\n",
       "      <td>Jan</td>\n",
       "      <td>Friday</td>\n",
       "      <td>339285</td>\n",
       "    </tr>\n",
       "    <tr>\n",
       "      <th>1</th>\n",
       "      <td>Jan</td>\n",
       "      <td>Monday</td>\n",
       "      <td>190606</td>\n",
       "    </tr>\n",
       "    <tr>\n",
       "      <th>2</th>\n",
       "      <td>Jan</td>\n",
       "      <td>Saturday</td>\n",
       "      <td>386049</td>\n",
       "    </tr>\n",
       "    <tr>\n",
       "      <th>3</th>\n",
       "      <td>Jan</td>\n",
       "      <td>Sunday</td>\n",
       "      <td>230487</td>\n",
       "    </tr>\n",
       "    <tr>\n",
       "      <th>4</th>\n",
       "      <td>Jan</td>\n",
       "      <td>Thursday</td>\n",
       "      <td>330319</td>\n",
       "    </tr>\n",
       "  </tbody>\n",
       "</table>\n",
       "</div>"
      ],
      "text/plain": [
       "  Pickup_month  Week_Day    size\n",
       "0          Jan    Friday  339285\n",
       "1          Jan    Monday  190606\n",
       "2          Jan  Saturday  386049\n",
       "3          Jan    Sunday  230487\n",
       "4          Jan  Thursday  330319"
      ]
     },
     "execution_count": 73,
     "metadata": {},
     "output_type": "execute_result"
    }
   ],
   "source": [
    "day_month.head()"
   ]
  },
  {
   "cell_type": "code",
   "execution_count": 74,
   "id": "06ecf321",
   "metadata": {},
   "outputs": [
    {
     "data": {
      "text/plain": [
       "Text(0.5, 1.0, 'Number of uber pick ups per month and day')"
      ]
     },
     "execution_count": 74,
     "metadata": {},
     "output_type": "execute_result"
    },
    {
     "data": {
      "image/png": "[encoded data removed]",
      "text/plain": [
       "<Figure size 1152x576 with 1 Axes>"
      ]
     },
     "metadata": {
      "needs_background": "light"
     },
     "output_type": "display_data"
    }
   ],
   "source": [
    "plt.figure(figsize=(16,8))\n",
    "sns.barplot(x='Pickup_month',y='size',hue = 'Week_Day', data = day_month)\n",
    "plt.xlabel('Month')\n",
    "plt.ylabel('# of Pick_ups')\n",
    "plt.title(\"Number of uber pick ups per month and day\",fontsize=15)"
   ]
  },
  {
   "cell_type": "markdown",
   "id": "63efc1eb",
   "metadata": {},
   "source": [
    "### **Inference:**\n",
    "    1. We can observe a varying trends in the booking across the different months.\n",
    "    2. In January and May, Saturday shows the highest pickup, while Apr shows the highest on Thursday.\n",
    "    3. In February, Friday and Saturday has high pickup numbers.\n",
    "    4. In March, Tuesday, Friday, Saturday, and Sunday shows high numbers, and the pickup is almost \n",
    "       equally distributed among all seven days.\n",
    "    4. June shows the highest pickup on Tuesday, followed by Saturday."
   ]
  },
  {
   "cell_type": "markdown",
   "id": "e8219111",
   "metadata": {},
   "source": [
    "### 3. Hourly rush of uber bookings in New York city on all days"
   ]
  },
  {
   "cell_type": "code",
   "execution_count": 75,
   "id": "dd3cb5b9",
   "metadata": {},
   "outputs": [],
   "source": [
    "#hourly rush per day\n",
    "hour_day = uber_df.groupby(['Week_Day','hour'], as_index=False).size()"
   ]
  },
  {
   "cell_type": "code",
   "execution_count": 76,
   "id": "0ee681ed",
   "metadata": {},
   "outputs": [
    {
     "data": {
      "text/html": [
       "<div>\n",
       "<style scoped>\n",
       "    .dataframe tbody tr th:only-of-type {\n",
       "        vertical-align: middle;\n",
       "    }\n",
       "\n",
       "    .dataframe tbody tr th {\n",
       "        vertical-align: top;\n",
       "    }\n",
       "\n",
       "    .dataframe thead th {\n",
       "        text-align: right;\n",
       "    }\n",
       "</style>\n",
       "<table border=\"1\" class=\"dataframe\">\n",
       "  <thead>\n",
       "    <tr style=\"text-align: right;\">\n",
       "      <th></th>\n",
       "      <th>Week_Day</th>\n",
       "      <th>hour</th>\n",
       "      <th>size</th>\n",
       "    </tr>\n",
       "  </thead>\n",
       "  <tbody>\n",
       "    <tr>\n",
       "      <th>0</th>\n",
       "      <td>Friday</td>\n",
       "      <td>0</td>\n",
       "      <td>79879</td>\n",
       "    </tr>\n",
       "    <tr>\n",
       "      <th>1</th>\n",
       "      <td>Friday</td>\n",
       "      <td>1</td>\n",
       "      <td>44563</td>\n",
       "    </tr>\n",
       "    <tr>\n",
       "      <th>2</th>\n",
       "      <td>Friday</td>\n",
       "      <td>2</td>\n",
       "      <td>27252</td>\n",
       "    </tr>\n",
       "    <tr>\n",
       "      <th>3</th>\n",
       "      <td>Friday</td>\n",
       "      <td>3</td>\n",
       "      <td>19076</td>\n",
       "    </tr>\n",
       "    <tr>\n",
       "      <th>4</th>\n",
       "      <td>Friday</td>\n",
       "      <td>4</td>\n",
       "      <td>23049</td>\n",
       "    </tr>\n",
       "    <tr>\n",
       "      <th>5</th>\n",
       "      <td>Friday</td>\n",
       "      <td>5</td>\n",
       "      <td>29563</td>\n",
       "    </tr>\n",
       "    <tr>\n",
       "      <th>6</th>\n",
       "      <td>Friday</td>\n",
       "      <td>6</td>\n",
       "      <td>46755</td>\n",
       "    </tr>\n",
       "    <tr>\n",
       "      <th>7</th>\n",
       "      <td>Friday</td>\n",
       "      <td>7</td>\n",
       "      <td>73565</td>\n",
       "    </tr>\n",
       "    <tr>\n",
       "      <th>8</th>\n",
       "      <td>Friday</td>\n",
       "      <td>8</td>\n",
       "      <td>95652</td>\n",
       "    </tr>\n",
       "    <tr>\n",
       "      <th>9</th>\n",
       "      <td>Friday</td>\n",
       "      <td>9</td>\n",
       "      <td>95711</td>\n",
       "    </tr>\n",
       "    <tr>\n",
       "      <th>10</th>\n",
       "      <td>Friday</td>\n",
       "      <td>10</td>\n",
       "      <td>78826</td>\n",
       "    </tr>\n",
       "    <tr>\n",
       "      <th>11</th>\n",
       "      <td>Friday</td>\n",
       "      <td>11</td>\n",
       "      <td>74122</td>\n",
       "    </tr>\n",
       "    <tr>\n",
       "      <th>12</th>\n",
       "      <td>Friday</td>\n",
       "      <td>12</td>\n",
       "      <td>74327</td>\n",
       "    </tr>\n",
       "    <tr>\n",
       "      <th>13</th>\n",
       "      <td>Friday</td>\n",
       "      <td>13</td>\n",
       "      <td>74853</td>\n",
       "    </tr>\n",
       "    <tr>\n",
       "      <th>14</th>\n",
       "      <td>Friday</td>\n",
       "      <td>14</td>\n",
       "      <td>83299</td>\n",
       "    </tr>\n",
       "    <tr>\n",
       "      <th>15</th>\n",
       "      <td>Friday</td>\n",
       "      <td>15</td>\n",
       "      <td>93297</td>\n",
       "    </tr>\n",
       "    <tr>\n",
       "      <th>16</th>\n",
       "      <td>Friday</td>\n",
       "      <td>16</td>\n",
       "      <td>106311</td>\n",
       "    </tr>\n",
       "    <tr>\n",
       "      <th>17</th>\n",
       "      <td>Friday</td>\n",
       "      <td>17</td>\n",
       "      <td>124264</td>\n",
       "    </tr>\n",
       "    <tr>\n",
       "      <th>18</th>\n",
       "      <td>Friday</td>\n",
       "      <td>18</td>\n",
       "      <td>144370</td>\n",
       "    </tr>\n",
       "    <tr>\n",
       "      <th>19</th>\n",
       "      <td>Friday</td>\n",
       "      <td>19</td>\n",
       "      <td>158189</td>\n",
       "    </tr>\n",
       "  </tbody>\n",
       "</table>\n",
       "</div>"
      ],
      "text/plain": [
       "   Week_Day  hour    size\n",
       "0    Friday     0   79879\n",
       "1    Friday     1   44563\n",
       "2    Friday     2   27252\n",
       "3    Friday     3   19076\n",
       "4    Friday     4   23049\n",
       "5    Friday     5   29563\n",
       "6    Friday     6   46755\n",
       "7    Friday     7   73565\n",
       "8    Friday     8   95652\n",
       "9    Friday     9   95711\n",
       "10   Friday    10   78826\n",
       "11   Friday    11   74122\n",
       "12   Friday    12   74327\n",
       "13   Friday    13   74853\n",
       "14   Friday    14   83299\n",
       "15   Friday    15   93297\n",
       "16   Friday    16  106311\n",
       "17   Friday    17  124264\n",
       "18   Friday    18  144370\n",
       "19   Friday    19  158189"
      ]
     },
     "execution_count": 76,
     "metadata": {},
     "output_type": "execute_result"
    }
   ],
   "source": [
    "hour_day.head(20)"
   ]
  },
  {
   "cell_type": "code",
   "execution_count": 77,
   "id": "b9755727",
   "metadata": {},
   "outputs": [
    {
     "data": {
      "text/plain": [
       "Text(0.5, 1.0, 'Number of uber pick ups per hour and day')"
      ]
     },
     "execution_count": 77,
     "metadata": {},
     "output_type": "execute_result"
    },
    {
     "data": {
      "image/png": "[encoded data removed]",
      "text/plain": [
       "<Figure size 1008x504 with 1 Axes>"
      ]
     },
     "metadata": {
      "needs_background": "light"
     },
     "output_type": "display_data"
    }
   ],
   "source": [
    "plt.figure(figsize=(14,7))\n",
    "sns.pointplot(x='hour',y='size',hue = 'Week_Day', data = hour_day)\n",
    "plt.xlabel('Hour')\n",
    "plt.ylabel('# of Pick_ups')\n",
    "plt.title(\"Number of uber pick ups per hour and day\",fontsize=15)"
   ]
  },
  {
   "cell_type": "code",
   "execution_count": 78,
   "id": "100815a0",
   "metadata": {},
   "outputs": [],
   "source": [
    "#creating a pivot table using hour and day and visualizing through a heatmap\n",
    "hour_day_pivot = uber_df.groupby(['Week_Day','hour']).size().unstack()"
   ]
  },
  {
   "cell_type": "code",
   "execution_count": 79,
   "id": "aa99dbe8",
   "metadata": {},
   "outputs": [
    {
     "data": {
      "text/html": [
       "<div>\n",
       "<style scoped>\n",
       "    .dataframe tbody tr th:only-of-type {\n",
       "        vertical-align: middle;\n",
       "    }\n",
       "\n",
       "    .dataframe tbody tr th {\n",
       "        vertical-align: top;\n",
       "    }\n",
       "\n",
       "    .dataframe thead th {\n",
       "        text-align: right;\n",
       "    }\n",
       "</style>\n",
       "<table border=\"1\" class=\"dataframe\">\n",
       "  <thead>\n",
       "    <tr style=\"text-align: right;\">\n",
       "      <th>hour</th>\n",
       "      <th>0</th>\n",
       "      <th>1</th>\n",
       "      <th>2</th>\n",
       "      <th>3</th>\n",
       "      <th>4</th>\n",
       "      <th>5</th>\n",
       "      <th>6</th>\n",
       "      <th>7</th>\n",
       "      <th>8</th>\n",
       "      <th>9</th>\n",
       "      <th>...</th>\n",
       "      <th>14</th>\n",
       "      <th>15</th>\n",
       "      <th>16</th>\n",
       "      <th>17</th>\n",
       "      <th>18</th>\n",
       "      <th>19</th>\n",
       "      <th>20</th>\n",
       "      <th>21</th>\n",
       "      <th>22</th>\n",
       "      <th>23</th>\n",
       "    </tr>\n",
       "    <tr>\n",
       "      <th>Week_Day</th>\n",
       "      <th></th>\n",
       "      <th></th>\n",
       "      <th></th>\n",
       "      <th></th>\n",
       "      <th></th>\n",
       "      <th></th>\n",
       "      <th></th>\n",
       "      <th></th>\n",
       "      <th></th>\n",
       "      <th></th>\n",
       "      <th></th>\n",
       "      <th></th>\n",
       "      <th></th>\n",
       "      <th></th>\n",
       "      <th></th>\n",
       "      <th></th>\n",
       "      <th></th>\n",
       "      <th></th>\n",
       "      <th></th>\n",
       "      <th></th>\n",
       "      <th></th>\n",
       "    </tr>\n",
       "  </thead>\n",
       "  <tbody>\n",
       "    <tr>\n",
       "      <th>Friday</th>\n",
       "      <td>79879</td>\n",
       "      <td>44563</td>\n",
       "      <td>27252</td>\n",
       "      <td>19076</td>\n",
       "      <td>23049</td>\n",
       "      <td>29563</td>\n",
       "      <td>46755</td>\n",
       "      <td>73565</td>\n",
       "      <td>95652</td>\n",
       "      <td>95711</td>\n",
       "      <td>...</td>\n",
       "      <td>83299</td>\n",
       "      <td>93297</td>\n",
       "      <td>106311</td>\n",
       "      <td>124264</td>\n",
       "      <td>144370</td>\n",
       "      <td>158189</td>\n",
       "      <td>149665</td>\n",
       "      <td>140473</td>\n",
       "      <td>149059</td>\n",
       "      <td>152707</td>\n",
       "    </tr>\n",
       "    <tr>\n",
       "      <th>Monday</th>\n",
       "      <td>47608</td>\n",
       "      <td>27093</td>\n",
       "      <td>16394</td>\n",
       "      <td>12461</td>\n",
       "      <td>18789</td>\n",
       "      <td>29964</td>\n",
       "      <td>47439</td>\n",
       "      <td>71280</td>\n",
       "      <td>92662</td>\n",
       "      <td>89232</td>\n",
       "      <td>...</td>\n",
       "      <td>70168</td>\n",
       "      <td>77414</td>\n",
       "      <td>83524</td>\n",
       "      <td>95763</td>\n",
       "      <td>109402</td>\n",
       "      <td>104129</td>\n",
       "      <td>96709</td>\n",
       "      <td>94189</td>\n",
       "      <td>85578</td>\n",
       "      <td>66097</td>\n",
       "    </tr>\n",
       "    <tr>\n",
       "      <th>Saturday</th>\n",
       "      <td>132555</td>\n",
       "      <td>95562</td>\n",
       "      <td>67298</td>\n",
       "      <td>47463</td>\n",
       "      <td>35829</td>\n",
       "      <td>25846</td>\n",
       "      <td>26584</td>\n",
       "      <td>31200</td>\n",
       "      <td>43223</td>\n",
       "      <td>58068</td>\n",
       "      <td>...</td>\n",
       "      <td>93414</td>\n",
       "      <td>100710</td>\n",
       "      <td>116781</td>\n",
       "      <td>134679</td>\n",
       "      <td>144150</td>\n",
       "      <td>158646</td>\n",
       "      <td>150845</td>\n",
       "      <td>146425</td>\n",
       "      <td>155830</td>\n",
       "      <td>159778</td>\n",
       "    </tr>\n",
       "    <tr>\n",
       "      <th>Sunday</th>\n",
       "      <td>141673</td>\n",
       "      <td>113495</td>\n",
       "      <td>80446</td>\n",
       "      <td>58043</td>\n",
       "      <td>40126</td>\n",
       "      <td>25137</td>\n",
       "      <td>22793</td>\n",
       "      <td>24778</td>\n",
       "      <td>33237</td>\n",
       "      <td>46323</td>\n",
       "      <td>...</td>\n",
       "      <td>91460</td>\n",
       "      <td>93479</td>\n",
       "      <td>99414</td>\n",
       "      <td>105638</td>\n",
       "      <td>107090</td>\n",
       "      <td>99181</td>\n",
       "      <td>91073</td>\n",
       "      <td>88141</td>\n",
       "      <td>90364</td>\n",
       "      <td>74100</td>\n",
       "    </tr>\n",
       "    <tr>\n",
       "      <th>Thursday</th>\n",
       "      <td>63000</td>\n",
       "      <td>36655</td>\n",
       "      <td>24940</td>\n",
       "      <td>18539</td>\n",
       "      <td>20546</td>\n",
       "      <td>28719</td>\n",
       "      <td>47341</td>\n",
       "      <td>77105</td>\n",
       "      <td>98496</td>\n",
       "      <td>94169</td>\n",
       "      <td>...</td>\n",
       "      <td>77575</td>\n",
       "      <td>88244</td>\n",
       "      <td>101691</td>\n",
       "      <td>121478</td>\n",
       "      <td>143467</td>\n",
       "      <td>146780</td>\n",
       "      <td>139163</td>\n",
       "      <td>142243</td>\n",
       "      <td>139247</td>\n",
       "      <td>119432</td>\n",
       "    </tr>\n",
       "    <tr>\n",
       "      <th>Tuesday</th>\n",
       "      <td>42659</td>\n",
       "      <td>23961</td>\n",
       "      <td>14191</td>\n",
       "      <td>9764</td>\n",
       "      <td>14433</td>\n",
       "      <td>24924</td>\n",
       "      <td>44684</td>\n",
       "      <td>74089</td>\n",
       "      <td>96836</td>\n",
       "      <td>91954</td>\n",
       "      <td>...</td>\n",
       "      <td>70858</td>\n",
       "      <td>80556</td>\n",
       "      <td>91241</td>\n",
       "      <td>112009</td>\n",
       "      <td>132634</td>\n",
       "      <td>129933</td>\n",
       "      <td>121253</td>\n",
       "      <td>119014</td>\n",
       "      <td>108826</td>\n",
       "      <td>83868</td>\n",
       "    </tr>\n",
       "    <tr>\n",
       "      <th>Wednesday</th>\n",
       "      <td>49928</td>\n",
       "      <td>27054</td>\n",
       "      <td>15866</td>\n",
       "      <td>10870</td>\n",
       "      <td>15286</td>\n",
       "      <td>24933</td>\n",
       "      <td>44382</td>\n",
       "      <td>74056</td>\n",
       "      <td>95232</td>\n",
       "      <td>89535</td>\n",
       "      <td>...</td>\n",
       "      <td>69876</td>\n",
       "      <td>80692</td>\n",
       "      <td>92997</td>\n",
       "      <td>110083</td>\n",
       "      <td>129492</td>\n",
       "      <td>131317</td>\n",
       "      <td>123490</td>\n",
       "      <td>120941</td>\n",
       "      <td>115208</td>\n",
       "      <td>91631</td>\n",
       "    </tr>\n",
       "  </tbody>\n",
       "</table>\n",
       "<p>7 rows × 24 columns</p>\n",
       "</div>"
      ],
      "text/plain": [
       "hour           0       1      2      3      4      5      6      7      8   \\\n",
       "Week_Day                                                                     \n",
       "Friday      79879   44563  27252  19076  23049  29563  46755  73565  95652   \n",
       "Monday      47608   27093  16394  12461  18789  29964  47439  71280  92662   \n",
       "Saturday   132555   95562  67298  47463  35829  25846  26584  31200  43223   \n",
       "Sunday     141673  113495  80446  58043  40126  25137  22793  24778  33237   \n",
       "Thursday    63000   36655  24940  18539  20546  28719  47341  77105  98496   \n",
       "Tuesday     42659   23961  14191   9764  14433  24924  44684  74089  96836   \n",
       "Wednesday   49928   27054  15866  10870  15286  24933  44382  74056  95232   \n",
       "\n",
       "hour          9   ...     14      15      16      17      18      19      20  \\\n",
       "Week_Day          ...                                                          \n",
       "Friday     95711  ...  83299   93297  106311  124264  144370  158189  149665   \n",
       "Monday     89232  ...  70168   77414   83524   95763  109402  104129   96709   \n",
       "Saturday   58068  ...  93414  100710  116781  134679  144150  158646  150845   \n",
       "Sunday     46323  ...  91460   93479   99414  105638  107090   99181   91073   \n",
       "Thursday   94169  ...  77575   88244  101691  121478  143467  146780  139163   \n",
       "Tuesday    91954  ...  70858   80556   91241  112009  132634  129933  121253   \n",
       "Wednesday  89535  ...  69876   80692   92997  110083  129492  131317  123490   \n",
       "\n",
       "hour           21      22      23  \n",
       "Week_Day                           \n",
       "Friday     140473  149059  152707  \n",
       "Monday      94189   85578   66097  \n",
       "Saturday   146425  155830  159778  \n",
       "Sunday      88141   90364   74100  \n",
       "Thursday   142243  139247  119432  \n",
       "Tuesday    119014  108826   83868  \n",
       "Wednesday  120941  115208   91631  \n",
       "\n",
       "[7 rows x 24 columns]"
      ]
     },
     "execution_count": 79,
     "metadata": {},
     "output_type": "execute_result"
    }
   ],
   "source": [
    "hour_day_pivot"
   ]
  },
  {
   "cell_type": "code",
   "execution_count": 80,
   "id": "538a8794",
   "metadata": {},
   "outputs": [
    {
     "data": {
      "text/plain": [
       "<AxesSubplot:xlabel='hour', ylabel='Week_Day'>"
      ]
     },
     "execution_count": 80,
     "metadata": {},
     "output_type": "execute_result"
    },
    {
     "data": {
      "image/png": "[encoded data removed]",
      "text/plain": [
       "<Figure size 1080x504 with 2 Axes>"
      ]
     },
     "metadata": {
      "needs_background": "light"
     },
     "output_type": "display_data"
    }
   ],
   "source": [
    "plt.figure(figsize=(15,7))\n",
    "sns.heatmap(hour_day_pivot)"
   ]
  },
  {
   "cell_type": "markdown",
   "id": "0ec499a0",
   "metadata": {},
   "source": [
    "### **Inference:**\n",
    "    1. Monday to Friday shows a rise in pickup around 7-9 am, probably because people go to work around that time.\n",
    "       Except Friday, all weekdays shows a rise in the pickup again around 5(17) to 6(18) pm when people need to go home, \n",
    "       after which it gradually decreases.\n",
    "    2. Friday and Saturday,followed by Thurday, shows a high pickup frequency in the evening.\n",
    "    3. Sunday shows a low pickup compared to the other days in the evening and morning.\n",
    "    4. Saturday and Sunday shows a high pickup at night, around 12 am to 2 am, maybe because people are out on Friday \n",
    "       and Saturday evenings and return home past midnight."
   ]
  },
  {
   "cell_type": "markdown",
   "id": "0645dae0",
   "metadata": {},
   "source": [
    "### 4. Which base number has the most number of active vehicles?"
   ]
  },
  {
   "cell_type": "code",
   "execution_count": 81,
   "id": "fad0a38b",
   "metadata": {},
   "outputs": [],
   "source": [
    "#we need to import data from a separate file for this analysis\n",
    "uber_foil = pd.read_csv(r'C:\\Users\\SUMANA\\OneDrive\\Desktop\\Data Analytics Projects\\Python Projects\\Uber Data Analysis\\uber-pickups-in-new-york-city-20221020T140811Z-001\\uber-pickups-in-new-york-city\\Uber-Jan-Feb-FOIL.csv', encoding = 'utf-8')"
   ]
  },
  {
   "cell_type": "code",
   "execution_count": 82,
   "id": "004a226f",
   "metadata": {},
   "outputs": [
    {
     "data": {
      "text/html": [
       "<div>\n",
       "<style scoped>\n",
       "    .dataframe tbody tr th:only-of-type {\n",
       "        vertical-align: middle;\n",
       "    }\n",
       "\n",
       "    .dataframe tbody tr th {\n",
       "        vertical-align: top;\n",
       "    }\n",
       "\n",
       "    .dataframe thead th {\n",
       "        text-align: right;\n",
       "    }\n",
       "</style>\n",
       "<table border=\"1\" class=\"dataframe\">\n",
       "  <thead>\n",
       "    <tr style=\"text-align: right;\">\n",
       "      <th></th>\n",
       "      <th>dispatching_base_number</th>\n",
       "      <th>date</th>\n",
       "      <th>active_vehicles</th>\n",
       "      <th>trips</th>\n",
       "    </tr>\n",
       "  </thead>\n",
       "  <tbody>\n",
       "    <tr>\n",
       "      <th>0</th>\n",
       "      <td>B02512</td>\n",
       "      <td>1/1/2015</td>\n",
       "      <td>190</td>\n",
       "      <td>1132</td>\n",
       "    </tr>\n",
       "    <tr>\n",
       "      <th>1</th>\n",
       "      <td>B02765</td>\n",
       "      <td>1/1/2015</td>\n",
       "      <td>225</td>\n",
       "      <td>1765</td>\n",
       "    </tr>\n",
       "    <tr>\n",
       "      <th>2</th>\n",
       "      <td>B02764</td>\n",
       "      <td>1/1/2015</td>\n",
       "      <td>3427</td>\n",
       "      <td>29421</td>\n",
       "    </tr>\n",
       "    <tr>\n",
       "      <th>3</th>\n",
       "      <td>B02682</td>\n",
       "      <td>1/1/2015</td>\n",
       "      <td>945</td>\n",
       "      <td>7679</td>\n",
       "    </tr>\n",
       "    <tr>\n",
       "      <th>4</th>\n",
       "      <td>B02617</td>\n",
       "      <td>1/1/2015</td>\n",
       "      <td>1228</td>\n",
       "      <td>9537</td>\n",
       "    </tr>\n",
       "  </tbody>\n",
       "</table>\n",
       "</div>"
      ],
      "text/plain": [
       "  dispatching_base_number      date  active_vehicles  trips\n",
       "0                  B02512  1/1/2015              190   1132\n",
       "1                  B02765  1/1/2015              225   1765\n",
       "2                  B02764  1/1/2015             3427  29421\n",
       "3                  B02682  1/1/2015              945   7679\n",
       "4                  B02617  1/1/2015             1228   9537"
      ]
     },
     "execution_count": 82,
     "metadata": {},
     "output_type": "execute_result"
    }
   ],
   "source": [
    "uber_foil.head()"
   ]
  },
  {
   "cell_type": "code",
   "execution_count": 83,
   "id": "91a0feb8",
   "metadata": {},
   "outputs": [
    {
     "data": {
      "text/plain": [
       "(354, 4)"
      ]
     },
     "execution_count": 83,
     "metadata": {},
     "output_type": "execute_result"
    }
   ],
   "source": [
    "uber_foil.shape"
   ]
  },
  {
   "cell_type": "code",
   "execution_count": 84,
   "id": "d06a8fd0",
   "metadata": {},
   "outputs": [
    {
     "data": {
      "text/plain": [
       "<AxesSubplot:xlabel='dispatching_base_number', ylabel='active_vehicles'>"
      ]
     },
     "execution_count": 84,
     "metadata": {},
     "output_type": "execute_result"
    },
    {
     "data": {
      "image/png": "[encoded data removed]",
      "text/plain": [
       "<Figure size 1152x576 with 1 Axes>"
      ]
     },
     "metadata": {
      "needs_background": "light"
     },
     "output_type": "display_data"
    }
   ],
   "source": [
    "plt.figure(figsize=(16,8))\n",
    "sns.boxplot(x = 'dispatching_base_number', y = 'active_vehicles', data = uber_foil, palette = 'pastel')"
   ]
  },
  {
   "cell_type": "markdown",
   "id": "371fb73b",
   "metadata": {},
   "source": [
    "### **Inference**:\n",
    "    Dispatch base number B02764 and B02512 shows the highest and lowest number of active vehicles, respectively."
   ]
  }
 ],
 "metadata": {
  "kernelspec": {
   "display_name": "Python 3 (ipykernel)",
   "language": "python",
   "name": "python3"
  },
  "language_info": {
   "codemirror_mode": {
    "name": "ipython",
    "version": 3
   },
   "file_extension": ".py",
   "mimetype": "text/x-python",
   "name": "python",
   "nbconvert_exporter": "python",
   "pygments_lexer": "ipython3",
   "version": "3.9.12"
  }
 },
 "nbformat": 4,
 "nbformat_minor": 5
}
